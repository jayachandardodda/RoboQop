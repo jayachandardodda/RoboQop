{
 "cells": [
  {
   "cell_type": "code",
   "execution_count": 1,
   "id": "c094e490",
   "metadata": {},
   "outputs": [],
   "source": [
    "import numpy as np\n",
    "import pandas as pd\n"
   ]
  },
  {
   "cell_type": "code",
   "execution_count": 61,
   "id": "3759539c",
   "metadata": {},
   "outputs": [],
   "source": [
    "portfolio_1 ={\"investment_amount\": 500, \n",
    "              \"tenure\": 5,\n",
    "    'stock_data' : [\n",
    "    {\n",
    "        'StockTicker':'AAPL',\n",
    "        'CurrentPrice':20.15,\n",
    "        'Volume':3,\n",
    "        'Amount':60.45\n",
    "    },\n",
    "    {\n",
    "        'StockTicker':'AMZN',\n",
    "        'CurrentPrice':30.15,\n",
    "        'Volume':2,\n",
    "        'Amount':60.30\n",
    "    },\n",
    "    {\n",
    "        'StockTicker':'TSLA',\n",
    "        'CurrentPrice':50,\n",
    "        'Volume':4,\n",
    "        'Amount':200\n",
    "    }\n",
    "]}"
   ]
  },
  {
   "cell_type": "code",
   "execution_count": 62,
   "id": "98339fab",
   "metadata": {},
   "outputs": [],
   "source": [
    "portfolio_2 ={\"investment_amount\": 1000, \n",
    "              \"tenure\": 5,\n",
    "    'stock_data' :[\n",
    "    {\n",
    "        'StockTicker':'AAPL',\n",
    "        'CurrentPrice':20.15,\n",
    "        'Volume':5,\n",
    "        'Amount':100.75\n",
    "    },\n",
    "    {\n",
    "        'StockTicker':'FB',\n",
    "        'CurrentPrice':30.15,\n",
    "        'Volume':2,\n",
    "        'Amount':60.30\n",
    "    },\n",
    "    {\n",
    "        'StockTicker':'WMT',\n",
    "        'CurrentPrice':50,\n",
    "        'Volume':4,\n",
    "        'Amount':200\n",
    "    },\n",
    "    {\n",
    "        'StockTicker':'TSLA',\n",
    "        'CurrentPrice':50,\n",
    "        'Volume':8,\n",
    "        'Amount':400\n",
    "    }\n",
    "]}"
   ]
  },
  {
   "cell_type": "code",
   "execution_count": 99,
   "id": "05c484f9",
   "metadata": {},
   "outputs": [],
   "source": [
    "portfolio_3 ={\"investment_amount\": 300, \n",
    "              \"tenure\": 5,\n",
    "    'stock_data' :[\n",
    "    {\n",
    "        'StockTicker':'AAPL',\n",
    "        'CurrentPrice':20.15,\n",
    "        'Volume':1,\n",
    "        'Amount':20.15\n",
    "    },\n",
    "    {\n",
    "        'StockTicker':'FB',\n",
    "        'CurrentPrice':30.15,\n",
    "        'Volume':3,\n",
    "        'Amount':90.45\n",
    "    },\n",
    "    {\n",
    "        'StockTicker':'WMT',\n",
    "        'CurrentPrice':50,\n",
    "        'Volume':1,\n",
    "        'Amount':50\n",
    "    },\n",
    "    {\n",
    "        'StockTicker':'XOM',\n",
    "        'CurrentPrice':1,\n",
    "        'Volume':8,\n",
    "        'Amount':8\n",
    "    }\n",
    "]}"
   ]
  },
  {
   "cell_type": "code",
   "execution_count": 125,
   "id": "b1c8704f",
   "metadata": {},
   "outputs": [],
   "source": [
    "def merge_portfolios(list_portfolios):\n",
    "    \n",
    "    \"\"\"\n",
    "    This function merges the selected portfolios\n",
    "    \n",
    "    Inputs:\n",
    "    list_portfolio: List of selected portfolios to be merged\n",
    "    type list_portfolio: list\n",
    "    \n",
    "    Outputs:\n",
    "    merged_portfolio: Merged portfolio\n",
    "    type merged_portfolio: dict\n",
    "    \"\"\"\n",
    "    \n",
    "    \n",
    "    merged_portfolio = {}\n",
    "    \n",
    "    #------------------------------------------------------------------------------------------------\n",
    "    # merging investment amount\n",
    "    merged_investment_amount = 0\n",
    "    for portfolio in list_portfolios:\n",
    "        merged_investment_amount += portfolio['investment_amount']\n",
    "    merged_portfolio['investment_amount'] = merged_investment_amount\n",
    "    \n",
    "    #------------------------------------------------------------------------------------------------\n",
    "    # merging tenure\n",
    "    merged_tenure = 'N/A'\n",
    "    merged_portfolio['tenure'] = merged_tenure\n",
    "    \n",
    "    #------------------------------------------------------------------------------------------------\n",
    "    # merging stock data\n",
    "    assets = []\n",
    "    for portfolio in list_portfolios:\n",
    "        for i in range(len(portfolio['stock_data'])):\n",
    "            assets.append(portfolio['stock_data'][i]['StockTicker'])\n",
    "    assets = list(set(assets))\n",
    "    \n",
    "    merged_stock_data = []\n",
    "    for asset in assets:\n",
    "        asset_price = 0\n",
    "        asset_volume = 0\n",
    "        asset_amount = 0\n",
    "        for portfolio in list_portfolios:\n",
    "            for i in range(len(portfolio['stock_data'])):\n",
    "                if asset in portfolio['stock_data'][i]['StockTicker']:\n",
    "                    asset_price = float(portfolio['stock_data'][i]['CurrentPrice'])\n",
    "                    asset_volume += portfolio['stock_data'][i]['Volume']\n",
    "                    asset_amount += float(portfolio['stock_data'][i]['Amount'])\n",
    "                    continue\n",
    "                \n",
    "        temp_dict = {}\n",
    "        temp_dict['StockTicker'] = asset\n",
    "        temp_dict['CurrentPrice'] = asset_price\n",
    "        temp_dict['Volume'] = asset_volume\n",
    "        temp_dict['Amount'] = asset_amount\n",
    "        merged_stock_data.append(temp_dict)\n",
    "        \n",
    "        \n",
    "        \n",
    "    merged_portfolio['stock_data'] = merged_stock_data\n",
    "    return(merged_portfolio)"
   ]
  },
  {
   "cell_type": "code",
   "execution_count": 126,
   "id": "d5d33207",
   "metadata": {},
   "outputs": [],
   "source": [
    "list_portfolio_1 = [portfolio_1,portfolio_2,portfolio_3]\n",
    "list_portfolio_2 = [portfolio_1,portfolio_3]"
   ]
  },
  {
   "cell_type": "code",
   "execution_count": 127,
   "id": "81c73982",
   "metadata": {},
   "outputs": [
    {
     "data": {
      "text/plain": [
       "{'investment_amount': 1800,\n",
       " 'tenure': 'N/A',\n",
       " 'stock_data': [{'StockTicker': 'FB',\n",
       "   'CurrentPrice': 30.15,\n",
       "   'Volume': 5,\n",
       "   'Amount': 150.75},\n",
       "  {'StockTicker': 'TSLA', 'CurrentPrice': 50.0, 'Volume': 12, 'Amount': 600.0},\n",
       "  {'StockTicker': 'WMT', 'CurrentPrice': 50.0, 'Volume': 5, 'Amount': 250.0},\n",
       "  {'StockTicker': 'AAPL',\n",
       "   'CurrentPrice': 20.15,\n",
       "   'Volume': 9,\n",
       "   'Amount': 181.35},\n",
       "  {'StockTicker': 'XOM', 'CurrentPrice': 1.0, 'Volume': 8, 'Amount': 8.0},\n",
       "  {'StockTicker': 'AMZN', 'CurrentPrice': 30.15, 'Volume': 2, 'Amount': 60.3}]}"
      ]
     },
     "execution_count": 127,
     "metadata": {},
     "output_type": "execute_result"
    }
   ],
   "source": [
    "merge_portfolios(list_portfolio_1)"
   ]
  },
  {
   "cell_type": "code",
   "execution_count": 128,
   "id": "412e72ed",
   "metadata": {},
   "outputs": [
    {
     "data": {
      "text/plain": [
       "{'investment_amount': 800,\n",
       " 'tenure': 'N/A',\n",
       " 'stock_data': [{'StockTicker': 'FB',\n",
       "   'CurrentPrice': 30.15,\n",
       "   'Volume': 3,\n",
       "   'Amount': 90.45},\n",
       "  {'StockTicker': 'TSLA', 'CurrentPrice': 50.0, 'Volume': 4, 'Amount': 200.0},\n",
       "  {'StockTicker': 'WMT', 'CurrentPrice': 50.0, 'Volume': 1, 'Amount': 50.0},\n",
       "  {'StockTicker': 'AAPL', 'CurrentPrice': 20.15, 'Volume': 4, 'Amount': 80.6},\n",
       "  {'StockTicker': 'XOM', 'CurrentPrice': 1.0, 'Volume': 8, 'Amount': 8.0},\n",
       "  {'StockTicker': 'AMZN', 'CurrentPrice': 30.15, 'Volume': 2, 'Amount': 60.3}]}"
      ]
     },
     "execution_count": 128,
     "metadata": {},
     "output_type": "execute_result"
    }
   ],
   "source": [
    "merge_portfolios(list_portfolio_2)"
   ]
  },
  {
   "cell_type": "code",
   "execution_count": null,
   "id": "085e4c4a",
   "metadata": {},
   "outputs": [],
   "source": []
  }
 ],
 "metadata": {
  "kernelspec": {
   "display_name": "Python 3.8.9 64-bit",
   "language": "python",
   "name": "python3"
  },
  "language_info": {
   "codemirror_mode": {
    "name": "ipython",
    "version": 3
   },
   "file_extension": ".py",
   "mimetype": "text/x-python",
   "name": "python",
   "nbconvert_exporter": "python",
   "pygments_lexer": "ipython3",
   "version": "3.8.9"
  },
  "vscode": {
   "interpreter": {
    "hash": "31f2aee4e71d21fbe5cf8b01ff0e069b9275f58929596ceb00d14d90e3e16cd6"
   }
  }
 },
 "nbformat": 4,
 "nbformat_minor": 5
}
